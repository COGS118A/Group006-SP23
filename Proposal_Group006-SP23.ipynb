{
 "cells": [
  {
   "attachments": {},
   "cell_type": "markdown",
   "metadata": {},
   "source": [
    "# COGS 118A- Project Proposal"
   ]
  },
  {
   "attachments": {},
   "cell_type": "markdown",
   "metadata": {},
   "source": [
    "# Project Description\n",
    "\n",
    "You will design and execute a machine learning project. There are a few constraints on the nature of the allowed project. \n",
    "- The problem addressed will not be a \"toy problem\" or \"common training students problem\" like mtcars, iris, palmer penguins etc.\n",
    "- The dataset will have >1k observations and >5 variables. I'd prefer more like >10k observations and >10 variables. A general rule is that if you have >100x more observations than variables, your solution will likely generalize a lot better. The goal of training a supervised machine learning model is to learn the underlying pattern in a dataset in order to generalize well to unseen data, so choosing a large dataset is very important.\n",
    "\n",
    "- The project will include a model selection and/or feature selection component where you will be looking for the best setup to maximize the performance of your ML system.\n",
    "- You will evaluate the performance of your ML system using more than one appropriate metric\n",
    "- You will be writing a report describing and discussing these accomplishments\n",
    "\n",
    "\n",
    "Feel free to delete this description section when you hand in your proposal."
   ]
  },
  {
   "attachments": {},
   "cell_type": "markdown",
   "metadata": {},
   "source": [
    "### Peer Review\n",
    "\n",
    "You will all have an opportunity to look at the Project Proposals of other groups to fuel your creativity and get more ideas for how you can improve your own projects. \n",
    "\n",
    "Both the project proposal and project checkpoint will have peer review."
   ]
  },
  {
   "attachments": {},
   "cell_type": "markdown",
   "metadata": {},
   "source": [
    "# Names\n",
    "\n",
    "Hopefully your team is at least this good. Obviously you should replace these with your names.\n",
    "\n",
    "- Qiudi He\n",
    "- Zhixin Li\n",
    "- Junming Chen\n"
   ]
  },
  {
   "attachments": {},
   "cell_type": "markdown",
   "metadata": {},
   "source": [
    "# Abstract \n",
    "- This project aims to address the limited understanding of predictors associated with in-hospital mortality among admitted patients. The goal is to develop and validate a prediction model for all-cause in-hospital mortality in order to improve patient outcomes.\n", 
    "\n",
    "- We use Logistic regression, decision tree, and random forest to develop the prediction model, taking into account various potential predictors. By considering a wide range of factors such as patient demographics, medical history, severity of illness, and treatment interventions, the study aims to capture the complex interplay of variables that contribute to patient outcomes.\n",
    "\n",
    "- We will split the data into training set, validation set and test set and get the confusion matrix to estimate the power, accuracy of our model. By establishing a robust prediction model, this project seeks to provide healthcare professionals with a valuable tool for identifying patients at higher risk of in-hospital mortality. Such a model can aid in clinical decision-making, resource allocation, and optimizing care strategies to improve patient outcomes.\n"

   ]
  },
  {
   "attachments": {},
   "cell_type": "markdown",
   "metadata": {},
   "source": [
    "# Background\n",
    "\n",
    "Substantial researches have demonstrated significant associations between demographic characteristics, vital signs, comorbidities, laboratory variables, and clinical outcomes of ICU patients.\n",
    "\n",
    "Impact of demographic characteristics: Previous studies have found that demographic characteristics such as age, gender, race, weight, and height can have a significant impact on patients' health status and clinical outcomes<a name=\"lorenz\"></a>[<sup>[1]</sup>](#lorenznote).Age is an important predictive factor, with increasing age being associated with higher disease incidence and mortality rates. Gender and race may also play a role in disease development and outcomes. Weight and height can be associated with conditions like obesity and underweight, which may affect patients' vital signs and disease progression.\n",
    "\n",
    "Importance of vital signs: Vital signs are crucial indicators for assessing patients' physiological status and health condition. Measures such as heart rate, blood pressure, respiratory rate, body temperature, and oxygen saturation reflect the cardiovascular function, respiratory function, and temperature regulation of patients. Previous research has shown an association between abnormal vital signs and adverse clinical outcomes, including the in-hospital mortality rate <a name=\"admonish\"></a>[<sup>[2]</sup>](#admonishnote).\n ",
    "\n",
    "Impact of comorbidities on clinical outcomes: Comorbidities refer to the simultaneous presence of other diseases or pathological conditions in patients. Comorbidities such as hypertension, atrial fibrillation, ischemic heart disease, diabetes, depression, iron-deficiency anemia, hyperlipidemia, chronic kidney disease (CKD), and chronic obstructive pulmonary disease (COPD) play a significant role in patients' health status and disease prognosis. Previous studies have found that these comorbidities may increase the risk of in-hospital mortality<a name=\"admonish\"></a>[<sup>[3]</sup>](#admonishnote)",
    "\n",
    "Predictive ability of laboratory variables: Laboratory variables include blood indicators, urine indicators, and other biochemical markers such as red blood cell count, platelet count, white blood cell count, hemoglobin level, blood glucose level, and electrolyte concentrations. Previous research has shown that these laboratory variables are associated with patients' health status and disease prognosis and can be used to predict clinical outcomes, including the in-hospital mortality rate.\n",
    "\n",
    "By integrating and further analyzing the findings from previous research, this study aims to delve into the relationship between demographic characteristics, vital signs, comorbidities, laboratory variables, and the in-hospital mortality rate. The goal is to provide more accurate prediction models and information for enhancing clinical decision-making and patient management.\n"
   ]
  },
  {
   "attachments": {},
   "cell_type": "markdown",
   "metadata": {},
   "source": [
    "# Problem Statement\n",
    "\n",
    "The aim of our project is to explore the relationship between demographic characteristics, vital signs, comorbidities, and laboratory variables at admission, as well as laboratory variables during ICU hospitalization, and the in-hospital mortality rate. The primary outcome is the in-hospital mortality rate, which refers to the patients' survival status at the time of discharge."
   ]
  },
  {
   "attachments": {},
   "cell_type": "markdown",
   "metadata": {},
   "source": [
    "# Data\n",
    "\n",
    "You should have a strong idea of what dataset(s) will be used to accomplish this project. \n",
    "\n",
    "If you know what (some) of the data you will use, please give the following information for each dataset:\n",
    "- The link to the dataset we found is: https://www.kaggle.com/datasets/mitishaagarwal/patient \n",
    "\n",
    "- The dataset contains 85 variables and 91,713 observations. It contains continuous variables, i.e. age, BMI, heart rate .etc. Also, there are categorical variables, such as gender, ventilated apache, elective surgery .etc(some medical indicators). Some of the remarkable variables are age, BMI, gender, the APACHE II diagnosis for the ICU admission, and we will work out the most critical variables in subsequent studies.\n",
    "\n",
    "- Data preprocessing is an essential step in preparing raw data for analysis and modeling. Before apply our models, we will perform data cleaning and data transformation, also handle outliers. Basically, we will identify and handle missing data by either removing the incomplete entries or imputing values based on statistical techniques, and remove duplicate records to avoid bias in the analysis. Then normalize or standardize the data to bring all variables to a similar scale, eliminating any bias caused by the differences in their ranges if needed. Also, we will use one-hot encoding to transform categorical variables. Finally, we will Detect and handle outliers that may significantly impact the analysis.\n" 
   ]
  },
  {
   "attachments": {},
   "cell_type": "markdown",
   "metadata": {},
   "source": [
    "# Proposed Solution\n",
    "\n",
    "In general, the solution will be the following in steps:  \n",
    "\n",
    "- Data Processing: Before applying the prediction algorithms, the dataset will undergo preprocessing steps such as handling missing values, encoding categorical variables, and normalizing numerical features.\n",
    "\n",
    "- Model Development: \n",
    "1. The reason why we use logistic regression is that the outcome of patients is binary, and when the dependent variable is a binary variable, logistic regression is commonly used to predict the probability of a binary outcome based on one or more independent variables.\n",
    "2. The reason why we use decision tree is that one of the advantages of decision trees is their ability to capture complex non-linear relationships between independent variables and the binary outcome. Decision trees can handle both categorical and numerical variables, making them flexible for various types of data.\n",
    "3. The reason why we use random forest is that Random forest overcomes some limitations of individual decision trees, such as overfitting and high variance.\n",
    "\n",
    "- Model Validation and Evaluation: The validation set will be used to assess the performance of the developed prediction model. The model's performance will be evaluated using metrics such as accuracy, precision, recall, and area under the receiver operating characteristic curve (AUC-ROC). The confusion matrix will also be computed to estimate the power and accuracy of the model.\n",
    "\n",
    "- Implementation Details:\n",
    "\n",
    "1. Python programming language will be used for implementing the solution.Libraries such as scikit-learn, pandas, and numpy will be leveraged for data preprocessing, model development, and evaluation.\n",
    "\n",
    "2. The logistic regression model can be implemented using scikit-learn's LogisticRegression class.\n",
    "\n",
    "3. The decision tree model can be implemented using scikit-learn's DecisionTreeClassifier class.The random forest model can be implemented using scikit-learn's RandomForestClassifier class.\n",
    "\n",
    "4. By combining multiple algorithms and considering a wide range of predictors, the proposed solution aims to capture.\n"
   ]
  },
  {
   "attachments": {},
   "cell_type": "markdown",
   "metadata": {},
   "source": [
    "# Evaluation Metrics\n",
    "\n",
    "Based on the above background, we want to be able to analyse patients' conditions and accurately predict their probability of death in order to determine their condition. Given input feature vectors such as heart rate, weight, age, presence of heart disease, etc., we can predict their corresponding severity of illness (probability of death).  \n",
    "\n",
    " \n",
    "\n",
    "We use **Recall** to test how much patients in severe health condition our model can predict rightly. And also we will use **Precision** to make sure our model can seperately tell healthy patients with patients in bad condition. We should also use **F-Value** to get a overrall evaluation on our model. \n",
    "Here the F-Value $  = (2*recall*precision/(precision + recall ) $. \n",
    "\n",
    "Further, to more accurately evaluate our model, Matthew's Correlation Coefficient(MCC), is used, where 1 is a perfect prediction and -1 is an imperfect prediction. $MCC = \\frac{TP*TN – FP*FN}{((TP+FP)*(FN+TN)*(FP+TN)*(TP+FN))^{0.5}}$ \n",
    "\n",
    "Where TP = True Postive, TN = True Negative, FP = False Postive, FN = False Negative. "
   ]
  },
  {
   "attachments": {},
   "cell_type": "markdown",
   "metadata": {},
   "source": [
    "# Ethics & Privacy"
   ]
  },
  {
   "attachments": {},
   "cell_type": "markdown",
   "metadata": {},
   "source": [
    "Lost of ethical perspective should be considered carefully. \n",
    "\n",
    " \n",
    "\n",
    "For example, the inform consent. We need to fully inform patients that the purpose of data collection is to analyse health conditions. Patients should have the right to make informed decisions about participation. Our dataset analyses the test results of many patients, but this data, as a patient's private health status, may have been collected without the patient's permission. \n",
    "\n",
    " \n",
    "\n",
    "Also, the bias in regional population distribution and the unevenness of the sample may lead to some racial discrimination. Our model may predict that a particular race is more severely ill overall.  \n",
    "\n",
    " \n",
    "\n",
    "Thinking more deeply, we may even have an impact that goes far beyond the purpose of 'health assessment', for example, our model may have a higher mortality rate for some patients, but this may lead some nefarious medical institutions to abandon treatment for these patients. "
   ]
  },
  {
   "attachments": {},
   "cell_type": "markdown",
   "metadata": {},
   "source": [
    "# Team Expectations "
   ]
  },
  {
   "attachments": {},
   "cell_type": "markdown",
   "metadata": {},
   "source": [
    "Put things here that cement how you will interact/communicate as a team, how you will handle conflict and difficulty, how you will handle making decisions and setting goals/schedule, how much work you expect from each other, how you will handle deadlines, etc...\n",
    "* We should distribute workload equitablly, make every invovled in the project.\n",
    "* Make schedule to set clear goals and timeline.\n",
    "* Communicate frequently, ensure everyone work without confusion.\n",
    "* Everyone on the team is encouraged to contribute their own insights."
   ]
  },
  {
   "attachments": {},
   "cell_type": "markdown",
   "metadata": {},
   "source": [
    "# Project Timeline Proposal"
   ]
  },
  {
   "attachments": {},
   "cell_type": "markdown",
   "metadata": {},
   "source": [
    "Replace this with something meaningful that is appropriate for your needs. It doesn't have to be something that fits this format.  It doesn't have to be set in stone... \"no battle plan survives contact with the enemy\". But you need a battle plan nonetheless, and you need to keep it updated so you understand what you are trying to accomplish, who's responsible for what, and what the expected due dates are for each item.\n",
    "\n",
    "| Meeting Date  | Meeting Time| Completed Before Meeting  | Discuss at Meeting |\n",
    "|---|---|---|---|\n",
    "| 5/15  |  11 AM |  Brainstorm for the project initial  | Determine the topic, decide the goal and figure out the problem. | \n",
    "| 5/19  |  2 PM |  Preliminary data analysis |  Identify data types and statistical distribution patterns of data | \n",
    "| 5/23  | 10 AM  | Discuss the datasets and brainstorm new ideas  | Find potentially efficient algorithms and finding suitable evaluation algorithms   |\n",
    "| 5/27  | 6 PM  | Discuss the process and check what is missing | Complete the benchmark evaluation; Discuss Analysis Plan   |\n",
    "| 6/1  | 11 AM  | Discuss the process and check what is missing| Complete part of our model; Discuss and Analysis Plan |\n",
    "| 6/5  | 11 AM  | Complete analysis| Complete our model; And discuss about what can be improved. |\n",
    "| 6/10  | 11 AM  | Merge contribution, compete report | Finish Final Project  |"
   ]
  },
  {
   "attachments": {},
   "cell_type": "markdown",
   "metadata": {},
   "source": [
    "# Footnotes\n",
    "<a name=\"lorenznote\"></a>1.[^](#lorenz): Kalantar-Zadeh, Kamyar; Kopple, Joel D; Block, Gladys; Humphreys, Michael H. Association Among SF36 Quality of Life Measures and Nutrition, Hospitalization, and Mortality in Hemodialysis. Journal of the American Society of Nephrology 12(12):p 2797-2806, December 2001. | DOI: 10.1681/ASN.V12122797 \n",
    "\n",
    "<a name=\"admonishnote\"></a>2.[^](#admonish): Subbe, C.P., Duller, B. & Bellomo, R. Effect of an automated notification system for deteriorating ward patients on clinical outcomes. Crit Care 21, 52 (2017).\n",
    "\n",
    "<a name=\"sotanote\"></a>3.[^](#sota): Patil SP, Krishnan JA, Lechtzin N, Diette GB. In-Hospital Mortality Following Acute Exacerbations of Chronic Obstructive Pulmonary Disease. Arch Intern Med. 2003;163(10):1180–1186. doi:10.1001/archinte.163.10.1180\n"
   ]
  },
  {
   "cell_type": "code",
   "execution_count": null,
   "metadata": {},
   "outputs": [],
   "source": []
  }
 ],
 "metadata": {
  "kernelspec": {
   "display_name": "Python 3",
   "language": "python",
   "name": "python3"
  },
  "language_info": {
   "codemirror_mode": {
    "name": "ipython",
    "version": 3
   },
   "file_extension": ".py",
   "mimetype": "text/x-python",
   "name": "python",
   "nbconvert_exporter": "python",
   "pygments_lexer": "ipython3",
   "version": "3.8.8"
  }
 },
 "nbformat": 4,
 "nbformat_minor": 2
}
