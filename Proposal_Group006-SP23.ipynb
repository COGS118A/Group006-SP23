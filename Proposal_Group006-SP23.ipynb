{
 "cells": [
  {
   "attachments": {},
   "cell_type": "markdown",
   "metadata": {},
   "source": [
    "# COGS 118A- Project Proposal"
   ]
  },
  {
   "attachments": {},
   "cell_type": "markdown",
   "metadata": {},
   "source": [
    "# Project Description\n",
    "\n",
    "You will design and execute a machine learning project. There are a few constraints on the nature of the allowed project. \n",
    "- The problem addressed will not be a \"toy problem\" or \"common training students problem\" like mtcars, iris, palmer penguins etc.\n",
    "- The dataset will have >1k observations and >5 variables. I'd prefer more like >10k observations and >10 variables. A general rule is that if you have >100x more observations than variables, your solution will likely generalize a lot better. The goal of training a supervised machine learning model is to learn the underlying pattern in a dataset in order to generalize well to unseen data, so choosing a large dataset is very important.\n",
    "\n",
    "- The project will include a model selection and/or feature selection component where you will be looking for the best setup to maximize the performance of your ML system.\n",
    "- You will evaluate the performance of your ML system using more than one appropriate metric\n",
    "- You will be writing a report describing and discussing these accomplishments\n",
    "\n",
    "\n",
    "Feel free to delete this description section when you hand in your proposal."
   ]
  },
  {
   "attachments": {},
   "cell_type": "markdown",
   "metadata": {},
   "source": [
    "### Peer Review\n",
    "\n",
    "You will all have an opportunity to look at the Project Proposals of other groups to fuel your creativity and get more ideas for how you can improve your own projects. \n",
    "\n",
    "Both the project proposal and project checkpoint will have peer review."
   ]
  },
  {
   "attachments": {},
   "cell_type": "markdown",
   "metadata": {},
   "source": [
    "# Names\n",
    "\n",
    "Hopefully your team is at least this good. Obviously you should replace these with your names.\n",
    "\n",
    "- Qiudi He\n",
    "- Zhixin Li\n",
    "- Junming Chen\n"
   ]
  },
  {
   "attachments": {},
   "cell_type": "markdown",
   "metadata": {},
   "source": [
    "# Abstract \n",
   "This section should be short and clearly stated. It should be a single paragraph <200 words.  It should summarize: \n",
    "- what your goal/problem is\n",
    "- what the data used represents and how they are measured\n",
    "- what you will be doing with the data\n",
    "- how performance/success will be measured"

   ]
  },
  {
   "attachments": {},
   "cell_type": "markdown",
   "metadata": {},
   "source": [
    "# Background\n",
    "\n",
    "Substantial researches have demonstrated significant associations between demographic characteristics, vital signs, comorbidities, laboratory variables, and clinical outcomes of ICU patients.\n",
    "\n",
    "Impact of demographic characteristics: Previous studies have found that demographic characteristics such as age, gender, race, weight, and height can have a significant impact on patients' health status and clinical outcomes<a name=\"lorenz\"></a>[<sup>[1]</sup>](#lorenznote).Age is an important predictive factor, with increasing age being associated with higher disease incidence and mortality rates. Gender and race may also play a role in disease development and outcomes. Weight and height can be associated with conditions like obesity and underweight, which may affect patients' vital signs and disease progression.\n",
    "\n",
    "Importance of vital signs: Vital signs are crucial indicators for assessing patients' physiological status and health condition. Measures such as heart rate, blood pressure, respiratory rate, body temperature, and oxygen saturation reflect the cardiovascular function, respiratory function, and temperature regulation of patients. Previous research has shown an association between abnormal vital signs and adverse clinical outcomes, including the in-hospital mortality rate <a name=\"admonish\"></a>[<sup>[2]</sup>](#admonishnote).\n ",
    "\n",
    "Impact of comorbidities on clinical outcomes: Comorbidities refer to the simultaneous presence of other diseases or pathological conditions in patients. Comorbidities such as hypertension, atrial fibrillation, ischemic heart disease, diabetes, depression, iron-deficiency anemia, hyperlipidemia, chronic kidney disease (CKD), and chronic obstructive pulmonary disease (COPD) play a significant role in patients' health status and disease prognosis. Previous studies have found that these comorbidities may increase the risk of in-hospital mortality<a name=\"admonish\"></a>[<sup>[3]</sup>](#admonishnote)",
    "\n",
    "Predictive ability of laboratory variables: Laboratory variables include blood indicators, urine indicators, and other biochemical markers such as red blood cell count, platelet count, white blood cell count, hemoglobin level, blood glucose level, and electrolyte concentrations. Previous research has shown that these laboratory variables are associated with patients' health status and disease prognosis and can be used to predict clinical outcomes, including the in-hospital mortality rate.\n",
    "\n",
    "By integrating and further analyzing the findings from previous research, this study aims to delve into the relationship between demographic characteristics, vital signs, comorbidities, laboratory variables, and the in-hospital mortality rate. The goal is to provide more accurate prediction models and information for enhancing clinical decision-making and patient management.\n"
   ]
  },
  {
   "attachments": {},
   "cell_type": "markdown",
   "metadata": {},
   "source": [
    "# Problem Statement\n",
    "\n",
    "The aim of our project is to explore the relationship between demographic characteristics, vital signs, comorbidities, and laboratory variables at admission, as well as laboratory variables during ICU hospitalization, and the in-hospital mortality rate. The primary outcome is the in-hospital mortality rate, which refers to the patients' survival status at the time of discharge."
   ]
  },
  {
   "attachments": {},
   "cell_type": "markdown",
   "metadata": {},
   "source": [
    "# Data\n",
    "\n",
    "You should have a strong idea of what dataset(s) will be used to accomplish this project. \n",
    "\n",
    "If you know what (some) of the data you will use, please give the following information for each dataset:\n",
    "- link/reference to obtain it\n",
    "- description of the size of the dataset (# of variables, # of observations)\n",
    "- what an observation consists of\n",
    "- what some critical variables are, how they are represented\n",
    "- any special handling, transformations, cleaning, etc will be needed\n",
    "\n",
    "If you don't yet know what your dataset(s) will be, you should describe what you desire in terms of the above bullets."
   ]
  },
  {
   "attachments": {},
   "cell_type": "markdown",
   "metadata": {},
   "source": [
    "# Proposed Solution\n",
    "\n",
    "In this section, clearly describe a solution to the problem. The solution should be applicable to the project domain and appropriate for the dataset(s) or input(s) given. Provide enough detail (e.g., algorithmic description and/or theoretical properties) to convince us that your solution is applicable. Why might your solution work? Make sure to describe how the solution will be tested.  \n",
    "\n",
    "If you know details already, describe how (e.g., library used, function calls) you plan to implement the solution in a way that is reproducible.\n",
    "\n",
    "If it is appropriate to the problem statement, describe a benchmark model<a name=\"sota\"></a>[<sup>[3]</sup>](#sotanote) against which your solution will be compared. "
   ]
  },
  {
   "attachments": {},
   "cell_type": "markdown",
   "metadata": {},
   "source": [
    "# Evaluation Metrics\n",
    "\n",
    "Based on the above background, we want to be able to analyse patients' conditions and accurately predict their probability of death in order to determine their condition. Given input feature vectors such as heart rate, weight, age, presence of heart disease, etc., we can predict their corresponding severity of illness (probability of death).  \n",
    "\n",
    " \n",
    "\n",
    "We use **Recall** to test how much patients in severe health condition our model can predict rightly. And also we will use **Precision** to make sure our model can seperately tell healthy patients with patients in bad condition. We should also use **F-Value** to get a overrall evaluation on our model. \n",
    "Here the F-Value $  = (2*recall*precision/(precision + recall ) $. \n",
    "\n",
    "Further, to more accurately evaluate our model, Matthew's Correlation Coefficient(MCC), is used, where 1 is a perfect prediction and -1 is an imperfect prediction. $MCC = \\frac{TP*TN – FP*FN}{((TP+FP)*(FN+TN)*(FP+TN)*(TP+FN))^{0.5}}$ \n",
    "\n",
    "Where TP = True Postive, TN = True Negative, FP = False Postive, FN = False Negative. "
   ]
  },
  {
   "attachments": {},
   "cell_type": "markdown",
   "metadata": {},
   "source": [
    "# Ethics & Privacy"
   ]
  },
  {
   "attachments": {},
   "cell_type": "markdown",
   "metadata": {},
   "source": [
    "Lost of ethical perspective should be considered carefully. \n",
    "\n",
    " \n",
    "\n",
    "For example, the inform consent. We need to fully inform patients that the purpose of data collection is to analyse health conditions. Patients should have the right to make informed decisions about participation. Our dataset analyses the test results of many patients, but this data, as a patient's private health status, may have been collected without the patient's permission. \n",
    "\n",
    " \n",
    "\n",
    "Also, the bias in regional population distribution and the unevenness of the sample may lead to some racial discrimination. Our model may predict that a particular race is more severely ill overall.  \n",
    "\n",
    " \n",
    "\n",
    "Thinking more deeply, we may even have an impact that goes far beyond the purpose of 'health assessment', for example, our model may have a higher mortality rate for some patients, but this may lead some nefarious medical institutions to abandon treatment for these patients. "
   ]
  },
  {
   "attachments": {},
   "cell_type": "markdown",
   "metadata": {},
   "source": [
    "# Team Expectations "
   ]
  },
  {
   "attachments": {},
   "cell_type": "markdown",
   "metadata": {},
   "source": [
    "Put things here that cement how you will interact/communicate as a team, how you will handle conflict and difficulty, how you will handle making decisions and setting goals/schedule, how much work you expect from each other, how you will handle deadlines, etc...\n",
    "* We should distribute workload equitablly, make every invovled in the project.\n",
    "* Make schedule to set clear goals and timeline.\n",
    "* Communicate frequently, ensure everyone work without confusion.\n",
    "* Everyone on the team is encouraged to contribute their own insights."
   ]
  },
  {
   "attachments": {},
   "cell_type": "markdown",
   "metadata": {},
   "source": [
    "# Project Timeline Proposal"
   ]
  },
  {
   "attachments": {},
   "cell_type": "markdown",
   "metadata": {},
   "source": [
    "Replace this with something meaningful that is appropriate for your needs. It doesn't have to be something that fits this format.  It doesn't have to be set in stone... \"no battle plan survives contact with the enemy\". But you need a battle plan nonetheless, and you need to keep it updated so you understand what you are trying to accomplish, who's responsible for what, and what the expected due dates are for each item.\n",
    "\n",
    "| Meeting Date  | Meeting Time| Completed Before Meeting  | Discuss at Meeting |\n",
    "|---|---|---|---|\n",
    "| 5/15  |  11 AM |  Brainstorm for the project initial  | Determine the topic, decide the goal and figure out the problem. | \n",
    "| 5/19  |  2 PM |  Preliminary data analysis |  Identify data types and statistical distribution patterns of data | \n",
    "| 5/23  | 10 AM  | Discuss the datasets and brainstorm new ideas  | Find potentially efficient algorithms and finding suitable evaluation algorithms   |\n",
    "| 5/27  | 6 PM  | Discuss the process and check what is missing | Complete the benchmark evaluation; Discuss Analysis Plan   |\n",
    "| 6/1  | 11 AM  | Discuss the process and check what is missing| Complete part of our model; Discuss and Analysis Plan |\n",
    "| 6/5  | 11 AM  | Complete analysis| Complete our model; And discuss about what can be improved. |\n",
    "| 6/10  | 11 AM  | Merge contribution, compete report | Finish Final Project  |"
   ]
  },
  {
   "attachments": {},
   "cell_type": "markdown",
   "metadata": {},
   "source": [
    "# Footnotes\n",
    "<a name=\"lorenznote\"></a>1.[^](#lorenz): Lorenz, T. (9 Dec 2021) Birds Aren’t Real, or Are They? Inside a Gen Z Conspiracy Theory. *The New York Times*. https://www.nytimes.com/2021/12/09/technology/birds-arent-real-gen-z-misinformation.html<br> \n",
    "<a name=\"admonishnote\"></a>2.[^](#admonish): Also refs should be important to the background, not some randomly chosen vaguely related stuff. Include a web link if possible in refs as above.<br>\n",
    "<a name=\"sotanote\"></a>3.[^](#sota): Perhaps the current state of the art solution such as you see on [Papers with code](https://paperswithcode.com/sota). Or maybe not SOTA, but rather a standard textbook/Kaggle solution to this kind of problem\n"
   ]
  },
  {
   "cell_type": "code",
   "execution_count": null,
   "metadata": {},
   "outputs": [],
   "source": []
  }
 ],
 "metadata": {
  "kernelspec": {
   "display_name": "Python 3",
   "language": "python",
   "name": "python3"
  },
  "language_info": {
   "codemirror_mode": {
    "name": "ipython",
    "version": 3
   },
   "file_extension": ".py",
   "mimetype": "text/x-python",
   "name": "python",
   "nbconvert_exporter": "python",
   "pygments_lexer": "ipython3",
   "version": "3.8.8"
  }
 },
 "nbformat": 4,
 "nbformat_minor": 2
}
